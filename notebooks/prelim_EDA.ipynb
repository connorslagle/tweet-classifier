{
 "cells": [
  {
   "cell_type": "code",
   "execution_count": 48,
   "metadata": {},
   "outputs": [],
   "source": [
    "from pymongo import MongoClient\n",
    "import pandas as pd\n",
    "import numpy as np\n",
    "import scipy.stats as stats\n",
    "import matplotlib.pyplot as plt\n",
    "from string import punctuation\n",
    "from sklearn.feature_extraction import stop_words\n",
    "stopwords = stop_words.ENGLISH_STOP_WORDS\n"
   ]
  },
  {
   "cell_type": "markdown",
   "metadata": {},
   "source": [
    "# Connect to local MongoDB; database & collecton"
   ]
  },
  {
   "cell_type": "code",
   "execution_count": 13,
   "metadata": {},
   "outputs": [],
   "source": [
    "client = MongoClient('localhost', 27017)"
   ]
  },
  {
   "cell_type": "code",
   "execution_count": 14,
   "metadata": {},
   "outputs": [
    {
     "data": {
      "text/plain": [
       "['admin', 'coffee_mongo_db', 'config', 'local', 'political_tweet_nlp']"
      ]
     },
     "execution_count": 14,
     "metadata": {},
     "output_type": "execute_result"
    }
   ],
   "source": [
    "client.list_database_names()"
   ]
  },
  {
   "cell_type": "code",
   "execution_count": 16,
   "metadata": {},
   "outputs": [
    {
     "data": {
      "text/plain": [
       "['oregon_covid_trump',\n",
       " 'colorado_covid_biden',\n",
       " 'oregon_covid_biden',\n",
       " 'oregon_biden',\n",
       " 'oregon_covid',\n",
       " 'colorado_trump',\n",
       " 'arkansas_trump',\n",
       " 'colorado_biden',\n",
       " 'colorado_covid',\n",
       " 'arkansas_biden',\n",
       " 'arkansas_covid',\n",
       " 'colorado_covid_trump',\n",
       " 'arkansas_covid_trump',\n",
       " 'oregon_trump',\n",
       " 'arkansas_covid_biden']"
      ]
     },
     "execution_count": 16,
     "metadata": {},
     "output_type": "execute_result"
    }
   ],
   "source": [
    "client['political_tweet_nlp'].list_collection_names()"
   ]
  },
  {
   "cell_type": "code",
   "execution_count": 17,
   "metadata": {},
   "outputs": [],
   "source": [
    "# test bag of words analysis on oregon_covid\n",
    "tweet_db = client['political_tweet_nlp']"
   ]
  },
  {
   "cell_type": "code",
   "execution_count": 8,
   "metadata": {},
   "outputs": [],
   "source": [
    "tweet_db = client['political_tweet_nlp']"
   ]
  },
  {
   "cell_type": "code",
   "execution_count": 18,
   "metadata": {},
   "outputs": [],
   "source": [
    "oregon_covid = tweet_db['oregon_covid'].find()"
   ]
  },
  {
   "cell_type": "code",
   "execution_count": 19,
   "metadata": {},
   "outputs": [],
   "source": [
    "oregon_covid_df = pd.DataFrame(list(oregon_covid))"
   ]
  },
  {
   "cell_type": "code",
   "execution_count": 24,
   "metadata": {},
   "outputs": [
    {
     "data": {
      "text/plain": [
       "0    RT @FLOTUS: Sincere condolences to the familie...\n",
       "1    RT @elespanolcom: #Italia deja salir a pasear ...\n",
       "2    RT @nature: World View: “#COVID19 might be jus...\n",
       "3    RT @Conflits_FR: ���� URGENT - 509 personnes s...\n",
       "4    RT @tendencias_yt: TENDENCIAS 31/03/20\\n\\n��JU...\n",
       "Name: text, dtype: object"
      ]
     },
     "execution_count": 24,
     "metadata": {},
     "output_type": "execute_result"
    }
   ],
   "source": [
    "oregon_covid_text = oregon_covid_df['text']\n",
    "oregon_covid_text[:5]"
   ]
  },
  {
   "cell_type": "code",
   "execution_count": 71,
   "metadata": {},
   "outputs": [
    {
     "name": "stdout",
     "output_type": "stream",
     "text": [
      "0    rt @flotus: sincere condolences to the familie...\n",
      "1    rt @elespanolcom: #italia deja salir a pasear ...\n",
      "2    rt @nature: world view: “#covid19 might be jus...\n",
      "3    rt @conflits_fr: ���� urgent - 509 personnes s...\n",
      "4    rt @tendencias_yt: tendencias 31/03/20\\n\\n��ju...\n",
      "Name: text, dtype: object\n"
     ]
    }
   ],
   "source": [
    "# apply cleaning to text\n",
    "# make lower\n",
    "oregon_covid_text_2 = oregon_covid_text.copy()\n",
    "oregon_covid_text_2 = oregon_covid_text_2.str.lower()\n",
    "print(oregon_covid_text_2[:5])"
   ]
  },
  {
   "cell_type": "code",
   "execution_count": 77,
   "metadata": {},
   "outputs": [],
   "source": [
    "# remove punctuation\n",
    "# [ for x in oregon_covid_text_2]\n",
    "type(oregon_covid_text_2[0])\n",
    "tst = oregon_covid_text_2[2]\n",
    "''.join([c for c in tst if c not in punctuation])\n",
    "\n",
    "for i in oregon_covid_text_2:\n",
    "    ''.join([c for c in str(i) if c not in punctuation])\n",
    "    i = i"
   ]
  },
  {
   "cell_type": "code",
   "execution_count": 68,
   "metadata": {},
   "outputs": [
    {
     "data": {
      "text/plain": [
       "0    rt @flotus: sincere condolences to the familie...\n",
       "1    rt @elespanolcom: #italia deja salir a pasear ...\n",
       "2    rt @nature: world view: “#covid19 might be jus...\n",
       "3    rt @conflits_fr: ���� urgent - 509 personnes s...\n",
       "4    rt @tendencias_yt: tendencias 31/03/20\\n\\n��ju...\n",
       "Name: text, dtype: object"
      ]
     },
     "execution_count": 68,
     "metadata": {},
     "output_type": "execute_result"
    }
   ],
   "source": [
    "oregon_covid_text_2[:5]\n"
   ]
  },
  {
   "cell_type": "code",
   "execution_count": 74,
   "metadata": {},
   "outputs": [
    {
     "name": "stdout",
     "output_type": "stream",
     "text": [
      "rt @nature: world view: “#covid19 might be just a wake-up call: let’s use it to rebuild our systems into something more resilient,” writes…\n"
     ]
    }
   ],
   "source": [
    "print(tst)"
   ]
  },
  {
   "cell_type": "code",
   "execution_count": 75,
   "metadata": {},
   "outputs": [
    {
     "data": {
      "text/plain": [
       "'!\"#$%&\\'()*+,-./:;<=>?@[\\\\]^_`{|}~'"
      ]
     },
     "execution_count": 75,
     "metadata": {},
     "output_type": "execute_result"
    }
   ],
   "source": [
    "punctuation\n"
   ]
  },
  {
   "cell_type": "code",
   "execution_count": 78,
   "metadata": {},
   "outputs": [
    {
     "name": "stdout",
     "output_type": "stream",
     "text": [
      "<class 'pandas.core.frame.DataFrame'>\n",
      "RangeIndex: 1000 entries, 0 to 999\n",
      "Data columns (total 38 columns):\n",
      " #   Column                     Non-Null Count  Dtype  \n",
      "---  ------                     --------------  -----  \n",
      " 0   _id                        1000 non-null   object \n",
      " 1   created_at                 999 non-null    object \n",
      " 2   id                         999 non-null    float64\n",
      " 3   id_str                     999 non-null    object \n",
      " 4   text                       999 non-null    object \n",
      " 5   source                     999 non-null    object \n",
      " 6   truncated                  999 non-null    object \n",
      " 7   in_reply_to_status_id      30 non-null     float64\n",
      " 8   in_reply_to_status_id_str  30 non-null     object \n",
      " 9   in_reply_to_user_id        40 non-null     float64\n",
      " 10  in_reply_to_user_id_str    40 non-null     object \n",
      " 11  in_reply_to_screen_name    40 non-null     object \n",
      " 12  user                       999 non-null    object \n",
      " 13  geo                        4 non-null      object \n",
      " 14  coordinates                4 non-null      object \n",
      " 15  place                      15 non-null     object \n",
      " 16  contributors               0 non-null      float64\n",
      " 17  retweeted_status           784 non-null    object \n",
      " 18  is_quote_status            999 non-null    object \n",
      " 19  quote_count                999 non-null    float64\n",
      " 20  reply_count                999 non-null    float64\n",
      " 21  retweet_count              999 non-null    float64\n",
      " 22  favorite_count             999 non-null    float64\n",
      " 23  entities                   999 non-null    object \n",
      " 24  favorited                  999 non-null    object \n",
      " 25  retweeted                  999 non-null    object \n",
      " 26  filter_level               999 non-null    object \n",
      " 27  lang                       999 non-null    object \n",
      " 28  timestamp_ms               999 non-null    object \n",
      " 29  possibly_sensitive         164 non-null    object \n",
      " 30  display_text_range         59 non-null     object \n",
      " 31  extended_tweet             101 non-null    object \n",
      " 32  quoted_status_id           277 non-null    float64\n",
      " 33  quoted_status_id_str       277 non-null    object \n",
      " 34  quoted_status              277 non-null    object \n",
      " 35  quoted_status_permalink    277 non-null    object \n",
      " 36  extended_entities          48 non-null     object \n",
      " 37  limit                      1 non-null      object \n",
      "dtypes: float64(9), object(29)\n",
      "memory usage: 297.0+ KB\n"
     ]
    }
   ],
   "source": [
    "oregon_covid_df.info()"
   ]
  },
  {
   "cell_type": "code",
   "execution_count": null,
   "metadata": {},
   "outputs": [],
   "source": []
  }
 ],
 "metadata": {
  "kernelspec": {
   "display_name": "Python 3",
   "language": "python",
   "name": "python3"
  },
  "language_info": {
   "codemirror_mode": {
    "name": "ipython",
    "version": 3
   },
   "file_extension": ".py",
   "mimetype": "text/x-python",
   "name": "python",
   "nbconvert_exporter": "python",
   "pygments_lexer": "ipython3",
   "version": "3.7.7"
  }
 },
 "nbformat": 4,
 "nbformat_minor": 4
}
