{
 "cells": [
  {
   "cell_type": "code",
   "execution_count": 10,
   "metadata": {},
   "outputs": [],
   "source": [
    "# going to dev json to sql with spark using local json file. Then implement on ec2 instance for pipeining. \n",
    "import pyspark as ps\n",
    "import pandas as pd\n",
    "from pyspark.sql.functions import lit"
   ]
  },
  {
   "cell_type": "code",
   "execution_count": 2,
   "metadata": {},
   "outputs": [],
   "source": [
    "spark = (ps.sql.SparkSession\n",
    "         .builder\n",
    "         .master('local[4]')\n",
    "         .appName('lecture')\n",
    "         .getOrCreate()\n",
    "        )\n",
    "sc = spark.sparkContext"
   ]
  },
  {
   "cell_type": "code",
   "execution_count": 3,
   "metadata": {},
   "outputs": [],
   "source": [
    "# loaded test df (COVID only CO)\n",
    "df = spark.read.format('json').load(\"../zip_data/data/test.json\")"
   ]
  },
  {
   "cell_type": "code",
   "execution_count": 4,
   "metadata": {},
   "outputs": [
    {
     "data": {
      "text/plain": [
       "['contributors',\n",
       " 'coordinates',\n",
       " 'created_at',\n",
       " 'display_text_range',\n",
       " 'entities',\n",
       " 'extended_entities',\n",
       " 'extended_tweet',\n",
       " 'favorite_count',\n",
       " 'favorited',\n",
       " 'filter_level',\n",
       " 'geo',\n",
       " 'id',\n",
       " 'id_str',\n",
       " 'in_reply_to_screen_name',\n",
       " 'in_reply_to_status_id',\n",
       " 'in_reply_to_status_id_str',\n",
       " 'in_reply_to_user_id',\n",
       " 'in_reply_to_user_id_str',\n",
       " 'is_quote_status',\n",
       " 'lang',\n",
       " 'limit',\n",
       " 'place',\n",
       " 'possibly_sensitive',\n",
       " 'quote_count',\n",
       " 'quoted_status',\n",
       " 'quoted_status_id',\n",
       " 'quoted_status_id_str',\n",
       " 'quoted_status_permalink',\n",
       " 'reply_count',\n",
       " 'retweet_count',\n",
       " 'retweeted',\n",
       " 'retweeted_status',\n",
       " 'source',\n",
       " 'text',\n",
       " 'timestamp_ms',\n",
       " 'truncated',\n",
       " 'user',\n",
       " 'withheld_in_countries']"
      ]
     },
     "execution_count": 4,
     "metadata": {},
     "output_type": "execute_result"
    }
   ],
   "source": [
    "df.columns"
   ]
  },
  {
   "cell_type": "code",
   "execution_count": 5,
   "metadata": {},
   "outputs": [],
   "source": [
    "# subsect colums that I want for 'tweets' table\n",
    "tweet_col_lst = ['id','user','lang','entities','place','created_at','text','source']\n",
    "tweet_col_df = df[tweet_col_lst]"
   ]
  },
  {
   "cell_type": "code",
   "execution_count": 6,
   "metadata": {},
   "outputs": [
    {
     "name": "stdout",
     "output_type": "stream",
     "text": [
      "+-------------------+--------------------+----+--------------------+-----+--------------------+--------------------+--------------------+\n",
      "|                 id|                user|lang|            entities|place|          created_at|                text|              source|\n",
      "+-------------------+--------------------+----+--------------------+-----+--------------------+--------------------+--------------------+\n",
      "|1245439863907852289|[false, Mon Feb 2...|  en|[[],, [], [], [[1...| null|Wed Apr 01 19:56:...|RT @ChristinePolo...|<a href=\"http://t...|\n",
      "+-------------------+--------------------+----+--------------------+-----+--------------------+--------------------+--------------------+\n",
      "only showing top 1 row\n",
      "\n"
     ]
    }
   ],
   "source": [
    "tweet_col_df.show(1)"
   ]
  },
  {
   "cell_type": "code",
   "execution_count": 7,
   "metadata": {},
   "outputs": [
    {
     "name": "stdout",
     "output_type": "stream",
     "text": [
      "root\n",
      " |-- id: long (nullable = true)\n",
      " |-- user: struct (nullable = true)\n",
      " |    |-- contributors_enabled: boolean (nullable = true)\n",
      " |    |-- created_at: string (nullable = true)\n",
      " |    |-- default_profile: boolean (nullable = true)\n",
      " |    |-- default_profile_image: boolean (nullable = true)\n",
      " |    |-- description: string (nullable = true)\n",
      " |    |-- favourites_count: long (nullable = true)\n",
      " |    |-- follow_request_sent: string (nullable = true)\n",
      " |    |-- followers_count: long (nullable = true)\n",
      " |    |-- following: string (nullable = true)\n",
      " |    |-- friends_count: long (nullable = true)\n",
      " |    |-- geo_enabled: boolean (nullable = true)\n",
      " |    |-- id: long (nullable = true)\n",
      " |    |-- id_str: string (nullable = true)\n",
      " |    |-- is_translator: boolean (nullable = true)\n",
      " |    |-- lang: string (nullable = true)\n",
      " |    |-- listed_count: long (nullable = true)\n",
      " |    |-- location: string (nullable = true)\n",
      " |    |-- name: string (nullable = true)\n",
      " |    |-- notifications: string (nullable = true)\n",
      " |    |-- profile_background_color: string (nullable = true)\n",
      " |    |-- profile_background_image_url: string (nullable = true)\n",
      " |    |-- profile_background_image_url_https: string (nullable = true)\n",
      " |    |-- profile_background_tile: boolean (nullable = true)\n",
      " |    |-- profile_banner_url: string (nullable = true)\n",
      " |    |-- profile_image_url: string (nullable = true)\n",
      " |    |-- profile_image_url_https: string (nullable = true)\n",
      " |    |-- profile_link_color: string (nullable = true)\n",
      " |    |-- profile_sidebar_border_color: string (nullable = true)\n",
      " |    |-- profile_sidebar_fill_color: string (nullable = true)\n",
      " |    |-- profile_text_color: string (nullable = true)\n",
      " |    |-- profile_use_background_image: boolean (nullable = true)\n",
      " |    |-- protected: boolean (nullable = true)\n",
      " |    |-- screen_name: string (nullable = true)\n",
      " |    |-- statuses_count: long (nullable = true)\n",
      " |    |-- time_zone: string (nullable = true)\n",
      " |    |-- translator_type: string (nullable = true)\n",
      " |    |-- url: string (nullable = true)\n",
      " |    |-- utc_offset: string (nullable = true)\n",
      " |    |-- verified: boolean (nullable = true)\n",
      " |-- lang: string (nullable = true)\n",
      " |-- entities: struct (nullable = true)\n",
      " |    |-- hashtags: array (nullable = true)\n",
      " |    |    |-- element: struct (containsNull = true)\n",
      " |    |    |    |-- indices: array (nullable = true)\n",
      " |    |    |    |    |-- element: long (containsNull = true)\n",
      " |    |    |    |-- text: string (nullable = true)\n",
      " |    |-- media: array (nullable = true)\n",
      " |    |    |-- element: struct (containsNull = true)\n",
      " |    |    |    |-- additional_media_info: struct (nullable = true)\n",
      " |    |    |    |    |-- description: string (nullable = true)\n",
      " |    |    |    |    |-- embeddable: boolean (nullable = true)\n",
      " |    |    |    |    |-- monetizable: boolean (nullable = true)\n",
      " |    |    |    |    |-- title: string (nullable = true)\n",
      " |    |    |    |-- description: string (nullable = true)\n",
      " |    |    |    |-- display_url: string (nullable = true)\n",
      " |    |    |    |-- expanded_url: string (nullable = true)\n",
      " |    |    |    |-- id: long (nullable = true)\n",
      " |    |    |    |-- id_str: string (nullable = true)\n",
      " |    |    |    |-- indices: array (nullable = true)\n",
      " |    |    |    |    |-- element: long (containsNull = true)\n",
      " |    |    |    |-- media_url: string (nullable = true)\n",
      " |    |    |    |-- media_url_https: string (nullable = true)\n",
      " |    |    |    |-- sizes: struct (nullable = true)\n",
      " |    |    |    |    |-- large: struct (nullable = true)\n",
      " |    |    |    |    |    |-- h: long (nullable = true)\n",
      " |    |    |    |    |    |-- resize: string (nullable = true)\n",
      " |    |    |    |    |    |-- w: long (nullable = true)\n",
      " |    |    |    |    |-- medium: struct (nullable = true)\n",
      " |    |    |    |    |    |-- h: long (nullable = true)\n",
      " |    |    |    |    |    |-- resize: string (nullable = true)\n",
      " |    |    |    |    |    |-- w: long (nullable = true)\n",
      " |    |    |    |    |-- small: struct (nullable = true)\n",
      " |    |    |    |    |    |-- h: long (nullable = true)\n",
      " |    |    |    |    |    |-- resize: string (nullable = true)\n",
      " |    |    |    |    |    |-- w: long (nullable = true)\n",
      " |    |    |    |    |-- thumb: struct (nullable = true)\n",
      " |    |    |    |    |    |-- h: long (nullable = true)\n",
      " |    |    |    |    |    |-- resize: string (nullable = true)\n",
      " |    |    |    |    |    |-- w: long (nullable = true)\n",
      " |    |    |    |-- source_status_id: long (nullable = true)\n",
      " |    |    |    |-- source_status_id_str: string (nullable = true)\n",
      " |    |    |    |-- source_user_id: long (nullable = true)\n",
      " |    |    |    |-- source_user_id_str: string (nullable = true)\n",
      " |    |    |    |-- type: string (nullable = true)\n",
      " |    |    |    |-- url: string (nullable = true)\n",
      " |    |-- symbols: array (nullable = true)\n",
      " |    |    |-- element: struct (containsNull = true)\n",
      " |    |    |    |-- indices: array (nullable = true)\n",
      " |    |    |    |    |-- element: long (containsNull = true)\n",
      " |    |    |    |-- text: string (nullable = true)\n",
      " |    |-- urls: array (nullable = true)\n",
      " |    |    |-- element: struct (containsNull = true)\n",
      " |    |    |    |-- display_url: string (nullable = true)\n",
      " |    |    |    |-- expanded_url: string (nullable = true)\n",
      " |    |    |    |-- indices: array (nullable = true)\n",
      " |    |    |    |    |-- element: long (containsNull = true)\n",
      " |    |    |    |-- url: string (nullable = true)\n",
      " |    |-- user_mentions: array (nullable = true)\n",
      " |    |    |-- element: struct (containsNull = true)\n",
      " |    |    |    |-- id: long (nullable = true)\n",
      " |    |    |    |-- id_str: string (nullable = true)\n",
      " |    |    |    |-- indices: array (nullable = true)\n",
      " |    |    |    |    |-- element: long (containsNull = true)\n",
      " |    |    |    |-- name: string (nullable = true)\n",
      " |    |    |    |-- screen_name: string (nullable = true)\n",
      " |-- place: struct (nullable = true)\n",
      " |    |-- bounding_box: struct (nullable = true)\n",
      " |    |    |-- coordinates: array (nullable = true)\n",
      " |    |    |    |-- element: array (containsNull = true)\n",
      " |    |    |    |    |-- element: array (containsNull = true)\n",
      " |    |    |    |    |    |-- element: double (containsNull = true)\n",
      " |    |    |-- type: string (nullable = true)\n",
      " |    |-- country: string (nullable = true)\n",
      " |    |-- country_code: string (nullable = true)\n",
      " |    |-- full_name: string (nullable = true)\n",
      " |    |-- id: string (nullable = true)\n",
      " |    |-- name: string (nullable = true)\n",
      " |    |-- place_type: string (nullable = true)\n",
      " |    |-- url: string (nullable = true)\n",
      " |-- created_at: string (nullable = true)\n",
      " |-- text: string (nullable = true)\n",
      " |-- source: string (nullable = true)\n",
      "\n"
     ]
    }
   ],
   "source": [
    "tweet_col_df.printSchema()"
   ]
  },
  {
   "cell_type": "code",
   "execution_count": 8,
   "metadata": {},
   "outputs": [
    {
     "data": {
      "text/plain": [
       "5005"
      ]
     },
     "execution_count": 8,
     "metadata": {},
     "output_type": "execute_result"
    }
   ],
   "source": [
    "tweet_col_df.cache()\n",
    "tweet_col_df.count()"
   ]
  },
  {
   "cell_type": "code",
   "execution_count": 98,
   "metadata": {},
   "outputs": [
    {
     "data": {
      "text/plain": [
       "Column<b'state'>"
      ]
     },
     "execution_count": 98,
     "metadata": {},
     "output_type": "execute_result"
    }
   ],
   "source": [
    "tweet_col_df=tweet_col_df.withColumn('state',lit('co'))\n",
    "tweet_col_df=tweet_col_df.withColumn('search_term_key',lit(1))\n",
    "tweet_col_df['state']"
   ]
  },
  {
   "cell_type": "code",
   "execution_count": null,
   "metadata": {},
   "outputs": [],
   "source": []
  },
  {
   "cell_type": "code",
   "execution_count": 99,
   "metadata": {},
   "outputs": [],
   "source": [
    "tweet_col_df.createOrReplaceTempView('tweets')"
   ]
  },
  {
   "cell_type": "code",
   "execution_count": 101,
   "metadata": {},
   "outputs": [
    {
     "name": "stdout",
     "output_type": "stream",
     "text": [
      "<class 'pyspark.sql.dataframe.DataFrame'>\n",
      "+------------------+-----+-----------+\n",
      "|          geo_name|state|search_term|\n",
      "+------------------+-----+-----------+\n",
      "|   Los Angeles, CA|   co|   #COVID19|\n",
      "|        Denver, CO|   co|   #COVID19|\n",
      "|          Cambodia|   co|   #COVID19|\n",
      "|        Denver, CO|   co|   #COVID19|\n",
      "|    Birmingham, AL|   co|   #COVID19|\n",
      "|  Fort Collins, CO|   co|   #COVID19|\n",
      "|        Denver, CO|   co|   #COVID19|\n",
      "|    Enterprise, NV|   co|   #COVID19|\n",
      "|     Oklahoma, USA|   co|   #COVID19|\n",
      "|       Boulder, CO|   co|   #COVID19|\n",
      "|     Oklahoma, USA|   co|   #COVID19|\n",
      "|   Fort Carson, CO|   co|   #COVID19|\n",
      "|Sandra Reyes D.D.S|   co|   #COVID19|\n",
      "|     Kentucky, USA|   co|   #COVID19|\n",
      "|     Englewood, CO|   co|   #COVID19|\n",
      "| New Braunfels, TX|   co|   #COVID19|\n",
      "|     Daly City, CA|   co|   #COVID19|\n",
      "|      Uyo, Nigeria|   co|   #COVID19|\n",
      "|      Lakewood, CO|   co|   #COVID19|\n",
      "|   Kampala, Uganda|   co|   #COVID19|\n",
      "+------------------+-----+-----------+\n",
      "only showing top 20 rows\n",
      "\n"
     ]
    }
   ],
   "source": [
    "\n",
    "place = spark.sql('''\n",
    "    SELECT\n",
    "        place.`full_name` AS geo_name,\n",
    "        state,\n",
    "        search_term\n",
    "    FROM\n",
    "        tweets\n",
    "    WHERE\n",
    "        (place.`full_name` IS NOT NULL AND\n",
    "        lang = 'en')\n",
    "    ''')\n",
    "print(type(place))\n",
    "place.show(20)"
   ]
  },
  {
   "cell_type": "code",
   "execution_count": 79,
   "metadata": {},
   "outputs": [
    {
     "name": "stdout",
     "output_type": "stream",
     "text": [
      "root\n",
      " |-- geo_name: string (nullable = true)\n",
      " |-- hash_tag_1: string (nullable = true)\n",
      " |-- hash_tag_2: string (nullable = true)\n",
      " |-- hash_tag_3: string (nullable = true)\n",
      " |-- hash_tag_4: string (nullable = true)\n",
      " |-- hash_tags_5: string (nullable = true)\n",
      " |-- hash_tag_6: string (nullable = true)\n",
      " |-- hash_tag_7: string (nullable = true)\n",
      " |-- hash_tag_8: string (nullable = true)\n",
      " |-- hash_tag_9: string (nullable = true)\n",
      " |-- hash_tags_10: string (nullable = true)\n",
      " |-- user_mentions: string (nullable = true)\n",
      "\n"
     ]
    }
   ],
   "source": [
    "place.printSchema()"
   ]
  },
  {
   "cell_type": "code",
   "execution_count": 84,
   "metadata": {},
   "outputs": [],
   "source": [
    "#perform SQL queries to make the tables I want, first tweets table\n",
    "\n",
    "temp = tweet_col_df.createOrReplaceTempView('tweets')\n",
    "\n",
    "tweet_tbl = spark.sql('''\n",
    "    SELECT \n",
    "        id AS tweet_id,\n",
    "        state,\n",
    "        search_term_key,\n",
    "        user.`id` AS user_id,\n",
    "        created_at AS time_created,\n",
    "        text AS tweet_text,\n",
    "        source,\n",
    "        place.`full_name` AS geo_name,\n",
    "        place.`id` AS geo_id,\n",
    "        place.`bounding_box`.`coordinates`[0][0][1] AS geo_coords_SW_lat,\n",
    "        place.`bounding_box`.`coordinates`[0][0][0] AS geo_coords_SW_long,\n",
    "        place.`bounding_box`.`coordinates`[0][2][1] AS geo_coords_NE_lat,\n",
    "        place.`bounding_box`.`coordinates`[0][2][0] AS geo_coords_NE_long,\n",
    "        entities.`hashtags`[0].`text` AS hash_tag_1,\n",
    "        entities.`hashtags`[1].`text` AS hash_tag_2,\n",
    "        entities.`hashtags`[2].`text` AS hash_tag_3,\n",
    "        entities.`hashtags`[3].`text` AS hash_tag_4,\n",
    "        entities.`hashtags`[4].`text` AS hash_tags_5,\n",
    "        entities.`user_mentions`[0].`screen_name` AS user_mentions_1,\n",
    "        entities.`user_mentions`[1].`screen_name` AS user_mentions_2,\n",
    "        entities.`user_mentions`[2].`screen_name` AS user_mentions_3,\n",
    "        entities.`user_mentions`[3].`screen_name` AS user_mentions_4,\n",
    "        entities.`user_mentions`[4].`screen_name` AS user_mentions_5,\n",
    "        user.`created_at` AS user_date_created,\n",
    "        user.`location` AS location,\n",
    "        user.`description` AS description\n",
    "    FROM tweets\n",
    "    WHERE\n",
    "        lang = 'en'\n",
    "    ''')\n"
   ]
  },
  {
   "cell_type": "code",
   "execution_count": 88,
   "metadata": {},
   "outputs": [
    {
     "name": "stdout",
     "output_type": "stream",
     "text": [
      "root\n",
      " |-- tweet_id: long (nullable = true)\n",
      " |-- state: string (nullable = false)\n",
      " |-- user_id: long (nullable = true)\n",
      " |-- time_created: string (nullable = true)\n",
      " |-- tweet_text: string (nullable = true)\n",
      " |-- source: string (nullable = true)\n",
      " |-- geo_name: string (nullable = true)\n",
      " |-- geo_id: string (nullable = true)\n",
      " |-- geo_coords_SW_lat: double (nullable = true)\n",
      " |-- geo_coords_SW_long: double (nullable = true)\n",
      " |-- geo_coords_NE_lat: double (nullable = true)\n",
      " |-- geo_coords_NE_long: double (nullable = true)\n",
      " |-- hash_tag_1: string (nullable = true)\n",
      " |-- hash_tag_2: string (nullable = true)\n",
      " |-- hash_tag_3: string (nullable = true)\n",
      " |-- hash_tag_4: string (nullable = true)\n",
      " |-- hash_tags_5: string (nullable = true)\n",
      " |-- hash_tags_6: string (nullable = true)\n",
      " |-- hash_tags_7: string (nullable = true)\n",
      " |-- user_mentions_1: string (nullable = true)\n",
      " |-- user_mentions_2: string (nullable = true)\n",
      " |-- user_mentions_3: string (nullable = true)\n",
      " |-- user_mentions_4: string (nullable = true)\n",
      " |-- user_mentions_5: string (nullable = true)\n",
      " |-- user_mentions_6: string (nullable = true)\n",
      " |-- user_mentions_7: string (nullable = true)\n",
      " |-- user_date_created: string (nullable = true)\n",
      " |-- location: string (nullable = true)\n",
      " |-- description: string (nullable = true)\n",
      "\n"
     ]
    }
   ],
   "source": [
    "spark_schema = tweet_tbl.schema\n",
    "tweet_tbl.printSchema()"
   ]
  },
  {
   "cell_type": "code",
   "execution_count": 86,
   "metadata": {},
   "outputs": [],
   "source": [
    "pd_tweets = tweet_tbl.toPandas()"
   ]
  },
  {
   "cell_type": "code",
   "execution_count": 87,
   "metadata": {},
   "outputs": [
    {
     "name": "stdout",
     "output_type": "stream",
     "text": [
      "<class 'pandas.core.frame.DataFrame'>\n",
      "RangeIndex: 2767 entries, 0 to 2766\n",
      "Data columns (total 29 columns):\n",
      " #   Column              Non-Null Count  Dtype  \n",
      "---  ------              --------------  -----  \n",
      " 0   tweet_id            2767 non-null   int64  \n",
      " 1   state               2767 non-null   object \n",
      " 2   user_id             2767 non-null   int64  \n",
      " 3   time_created        2767 non-null   object \n",
      " 4   tweet_text          2767 non-null   object \n",
      " 5   source              2767 non-null   object \n",
      " 6   geo_name            69 non-null     object \n",
      " 7   geo_id              69 non-null     object \n",
      " 8   geo_coords_SW_lat   69 non-null     float64\n",
      " 9   geo_coords_SW_long  69 non-null     float64\n",
      " 10  geo_coords_NE_lat   69 non-null     float64\n",
      " 11  geo_coords_NE_long  69 non-null     float64\n",
      " 12  hash_tag_1          1564 non-null   object \n",
      " 13  hash_tag_2          579 non-null    object \n",
      " 14  hash_tag_3          219 non-null    object \n",
      " 15  hash_tag_4          107 non-null    object \n",
      " 16  hash_tags_5         56 non-null     object \n",
      " 17  hash_tags_6         21 non-null     object \n",
      " 18  hash_tags_7         8 non-null      object \n",
      " 19  user_mentions_1     2343 non-null   object \n",
      " 20  user_mentions_2     495 non-null    object \n",
      " 21  user_mentions_3     146 non-null    object \n",
      " 22  user_mentions_4     61 non-null     object \n",
      " 23  user_mentions_5     31 non-null     object \n",
      " 24  user_mentions_6     13 non-null     object \n",
      " 25  user_mentions_7     8 non-null      object \n",
      " 26  user_date_created   2767 non-null   object \n",
      " 27  location            1984 non-null   object \n",
      " 28  description         2342 non-null   object \n",
      "dtypes: float64(4), int64(2), object(23)\n",
      "memory usage: 627.0+ KB\n"
     ]
    }
   ],
   "source": [
    "pd_tweets.info()"
   ]
  },
  {
   "cell_type": "code",
   "execution_count": 25,
   "metadata": {},
   "outputs": [
    {
     "data": {
      "text/plain": [
       "'Wed Apr 01 19:56:17 +0000 2020'"
      ]
     },
     "execution_count": 25,
     "metadata": {},
     "output_type": "execute_result"
    }
   ],
   "source": [
    "tweet_date = pd_tweets['time_created']\n",
    "tweet_date[0]"
   ]
  },
  {
   "cell_type": "code",
   "execution_count": 26,
   "metadata": {},
   "outputs": [
    {
     "data": {
      "text/plain": [
       "Timestamp('2020-04-01 19:56:17+0000', tz='UTC')"
      ]
     },
     "execution_count": 26,
     "metadata": {},
     "output_type": "execute_result"
    }
   ],
   "source": [
    "pd.to_datetime(tweet_date[0])"
   ]
  },
  {
   "cell_type": "code",
   "execution_count": 32,
   "metadata": {},
   "outputs": [],
   "source": [
    "tweet_date_formated = tweet_date.map(lambda x: pd.to_datetime(x))"
   ]
  },
  {
   "cell_type": "code",
   "execution_count": 36,
   "metadata": {},
   "outputs": [
    {
     "data": {
      "text/plain": [
       "0       co\n",
       "1       co\n",
       "2       co\n",
       "3       co\n",
       "4       co\n",
       "        ..\n",
       "2762    co\n",
       "2763    co\n",
       "2764    co\n",
       "2765    co\n",
       "2766    co\n",
       "Name: state, Length: 2767, dtype: string"
      ]
     },
     "execution_count": 36,
     "metadata": {},
     "output_type": "execute_result"
    }
   ],
   "source": [
    "pd_tweets['state'].astype('string')"
   ]
  },
  {
   "cell_type": "code",
   "execution_count": 37,
   "metadata": {},
   "outputs": [
    {
     "name": "stdout",
     "output_type": "stream",
     "text": [
      "<class 'pandas.core.frame.DataFrame'>\n",
      "RangeIndex: 2767 entries, 0 to 2766\n",
      "Data columns (total 15 columns):\n",
      " #   Column             Non-Null Count  Dtype \n",
      "---  ------             --------------  ----- \n",
      " 0   tweet_id           2767 non-null   int64 \n",
      " 1   state              2767 non-null   object\n",
      " 2   user_id            2767 non-null   int64 \n",
      " 3   time_created       2767 non-null   object\n",
      " 4   tweet_text         2767 non-null   object\n",
      " 5   source             2767 non-null   object\n",
      " 6   geo_name           69 non-null     object\n",
      " 7   geo_id             69 non-null     object\n",
      " 8   geo_coords         69 non-null     object\n",
      " 9   geo_coords_two     69 non-null     object\n",
      " 10  hash_tags          1564 non-null   object\n",
      " 11  user_mentions      2343 non-null   object\n",
      " 12  user_date_created  2767 non-null   object\n",
      " 13  location           1984 non-null   object\n",
      " 14  description        2342 non-null   object\n",
      "dtypes: int64(2), object(13)\n",
      "memory usage: 324.4+ KB\n"
     ]
    }
   ],
   "source": [
    "pd_tweets.info()"
   ]
  },
  {
   "cell_type": "code",
   "execution_count": 43,
   "metadata": {},
   "outputs": [
    {
     "data": {
      "text/plain": [
       "34      [-118.668404, 33.704538]\n",
       "35      [-105.109815, 39.614151]\n",
       "68         [102.333681, 9.90553]\n",
       "166     [-105.109815, 39.614151]\n",
       "191      [-86.967333, 33.405025]\n",
       "                  ...           \n",
       "2615     [-104.96747, 39.783752]\n",
       "2637      [28.861757, -2.838727]\n",
       "2647       [-1.14452, 52.569949]\n",
       "2715      [34.266924, 29.393973]\n",
       "2754     [16.447593, -34.834247]\n",
       "Name: geo_coords, Length: 69, dtype: object"
      ]
     },
     "execution_count": 43,
     "metadata": {},
     "output_type": "execute_result"
    }
   ],
   "source": [
    "pd_tweets['geo_coords'][pd_tweets['geo_coords'].isna() == False]"
   ]
  },
  {
   "cell_type": "code",
   "execution_count": 45,
   "metadata": {},
   "outputs": [
    {
     "name": "stdout",
     "output_type": "stream",
     "text": [
      "[-118.668404, 33.704538] [-118.668404, 34.337041]\n"
     ]
    }
   ],
   "source": [
    "print(pd_tweets['geo_coords'][34], pd_tweets['geo_coords_two'][34])"
   ]
  },
  {
   "cell_type": "code",
   "execution_count": 46,
   "metadata": {},
   "outputs": [
    {
     "data": {
      "text/plain": [
       "'Los Angeles, CA'"
      ]
     },
     "execution_count": 46,
     "metadata": {},
     "output_type": "execute_result"
    }
   ],
   "source": [
    "pd_tweets['geo_name'][34]"
   ]
  },
  {
   "cell_type": "code",
   "execution_count": 103,
   "metadata": {},
   "outputs": [
    {
     "data": {
      "text/html": [
       "<div>\n",
       "<style scoped>\n",
       "    .dataframe tbody tr th:only-of-type {\n",
       "        vertical-align: middle;\n",
       "    }\n",
       "\n",
       "    .dataframe tbody tr th {\n",
       "        vertical-align: top;\n",
       "    }\n",
       "\n",
       "    .dataframe thead th {\n",
       "        text-align: right;\n",
       "    }\n",
       "</style>\n",
       "<table border=\"1\" class=\"dataframe\">\n",
       "  <thead>\n",
       "    <tr style=\"text-align: right;\">\n",
       "      <th></th>\n",
       "      <th>tweet_id</th>\n",
       "      <th>state</th>\n",
       "      <th>user_id</th>\n",
       "      <th>time_created</th>\n",
       "      <th>tweet_text</th>\n",
       "      <th>source</th>\n",
       "      <th>geo_name</th>\n",
       "      <th>geo_id</th>\n",
       "      <th>geo_coords_SW_lat</th>\n",
       "      <th>geo_coords_SW_long</th>\n",
       "      <th>...</th>\n",
       "      <th>user_mentions_1</th>\n",
       "      <th>user_mentions_2</th>\n",
       "      <th>user_mentions_3</th>\n",
       "      <th>user_mentions_4</th>\n",
       "      <th>user_mentions_5</th>\n",
       "      <th>user_mentions_6</th>\n",
       "      <th>user_mentions_7</th>\n",
       "      <th>user_date_created</th>\n",
       "      <th>location</th>\n",
       "      <th>description</th>\n",
       "    </tr>\n",
       "  </thead>\n",
       "  <tbody>\n",
       "    <tr>\n",
       "      <th>0</th>\n",
       "      <td>1245439863907852289</td>\n",
       "      <td>co</td>\n",
       "      <td>968218684702560261</td>\n",
       "      <td>Wed Apr 01 19:56:17 +0000 2020</td>\n",
       "      <td>RT @ChristinePolon1: I just called this hospit...</td>\n",
       "      <td>&lt;a href=\"http://twitter.com/download/android\" ...</td>\n",
       "      <td>None</td>\n",
       "      <td>None</td>\n",
       "      <td>NaN</td>\n",
       "      <td>NaN</td>\n",
       "      <td>...</td>\n",
       "      <td>ChristinePolon1</td>\n",
       "      <td>None</td>\n",
       "      <td>None</td>\n",
       "      <td>None</td>\n",
       "      <td>None</td>\n",
       "      <td>None</td>\n",
       "      <td>None</td>\n",
       "      <td>Mon Feb 26 20:18:17 +0000 2018</td>\n",
       "      <td>Michigan, USA</td>\n",
       "      <td>#Truth #MAGA #KAG #Q #QAnon #GreatAwakening  #...</td>\n",
       "    </tr>\n",
       "    <tr>\n",
       "      <th>1</th>\n",
       "      <td>1245439864130191362</td>\n",
       "      <td>co</td>\n",
       "      <td>41109216</td>\n",
       "      <td>Wed Apr 01 19:56:17 +0000 2020</td>\n",
       "      <td>RT @socialistworker: Hungary’s government effe...</td>\n",
       "      <td>&lt;a href=\"http://twitter.com/download/android\" ...</td>\n",
       "      <td>None</td>\n",
       "      <td>None</td>\n",
       "      <td>NaN</td>\n",
       "      <td>NaN</td>\n",
       "      <td>...</td>\n",
       "      <td>socialistworker</td>\n",
       "      <td>None</td>\n",
       "      <td>None</td>\n",
       "      <td>None</td>\n",
       "      <td>None</td>\n",
       "      <td>None</td>\n",
       "      <td>None</td>\n",
       "      <td>Tue May 19 12:56:52 +0000 2009</td>\n",
       "      <td>London UK</td>\n",
       "      <td>I AM A CITIZEN OF THE WORLD 🌍\\nI am a Globalis...</td>\n",
       "    </tr>\n",
       "    <tr>\n",
       "      <th>2</th>\n",
       "      <td>1245439864197218304</td>\n",
       "      <td>co</td>\n",
       "      <td>550338885</td>\n",
       "      <td>Wed Apr 01 19:56:17 +0000 2020</td>\n",
       "      <td>RT @JustinBrannan: Dear @Amazon,\\n\\nWith peopl...</td>\n",
       "      <td>&lt;a href=\"https://mobile.twitter.com\" rel=\"nofo...</td>\n",
       "      <td>None</td>\n",
       "      <td>None</td>\n",
       "      <td>NaN</td>\n",
       "      <td>NaN</td>\n",
       "      <td>...</td>\n",
       "      <td>JustinBrannan</td>\n",
       "      <td>amazon</td>\n",
       "      <td>None</td>\n",
       "      <td>None</td>\n",
       "      <td>None</td>\n",
       "      <td>None</td>\n",
       "      <td>None</td>\n",
       "      <td>Tue Apr 10 16:42:11 +0000 2012</td>\n",
       "      <td>None</td>\n",
       "      <td>I don’t know her.</td>\n",
       "    </tr>\n",
       "    <tr>\n",
       "      <th>3</th>\n",
       "      <td>1245439864331436032</td>\n",
       "      <td>co</td>\n",
       "      <td>1149028897247416320</td>\n",
       "      <td>Wed Apr 01 19:56:17 +0000 2020</td>\n",
       "      <td>UV DISINFECTION - UV LIGHT AND COVID-19 (CORON...</td>\n",
       "      <td>&lt;a href=\"http://twitter.com/download/iphone\" r...</td>\n",
       "      <td>None</td>\n",
       "      <td>None</td>\n",
       "      <td>NaN</td>\n",
       "      <td>NaN</td>\n",
       "      <td>...</td>\n",
       "      <td>None</td>\n",
       "      <td>None</td>\n",
       "      <td>None</td>\n",
       "      <td>None</td>\n",
       "      <td>None</td>\n",
       "      <td>None</td>\n",
       "      <td>None</td>\n",
       "      <td>Wed Jul 10 18:53:31 +0000 2019</td>\n",
       "      <td>Texas, USA</td>\n",
       "      <td>BSN RN OR/CVOR/IR/GI. Jesus is #1. 🚫DM, 🚫chats...</td>\n",
       "    </tr>\n",
       "    <tr>\n",
       "      <th>4</th>\n",
       "      <td>1245439864943906817</td>\n",
       "      <td>co</td>\n",
       "      <td>1146317592556122112</td>\n",
       "      <td>Wed Apr 01 19:56:17 +0000 2020</td>\n",
       "      <td>RT @KemiOlunloyo: #BREAKING  I am calling for ...</td>\n",
       "      <td>&lt;a href=\"http://twitter.com/download/android\" ...</td>\n",
       "      <td>None</td>\n",
       "      <td>None</td>\n",
       "      <td>NaN</td>\n",
       "      <td>NaN</td>\n",
       "      <td>...</td>\n",
       "      <td>KemiOlunloyo</td>\n",
       "      <td>HE_HopeUzodimma</td>\n",
       "      <td>NCDCgov</td>\n",
       "      <td>Chikwe_I</td>\n",
       "      <td>None</td>\n",
       "      <td>None</td>\n",
       "      <td>None</td>\n",
       "      <td>Wed Jul 03 07:19:46 +0000 2019</td>\n",
       "      <td>None</td>\n",
       "      <td>A bio can't explain ME</td>\n",
       "    </tr>\n",
       "  </tbody>\n",
       "</table>\n",
       "<p>5 rows × 29 columns</p>\n",
       "</div>"
      ],
      "text/plain": [
       "              tweet_id state              user_id  \\\n",
       "0  1245439863907852289    co   968218684702560261   \n",
       "1  1245439864130191362    co             41109216   \n",
       "2  1245439864197218304    co            550338885   \n",
       "3  1245439864331436032    co  1149028897247416320   \n",
       "4  1245439864943906817    co  1146317592556122112   \n",
       "\n",
       "                     time_created  \\\n",
       "0  Wed Apr 01 19:56:17 +0000 2020   \n",
       "1  Wed Apr 01 19:56:17 +0000 2020   \n",
       "2  Wed Apr 01 19:56:17 +0000 2020   \n",
       "3  Wed Apr 01 19:56:17 +0000 2020   \n",
       "4  Wed Apr 01 19:56:17 +0000 2020   \n",
       "\n",
       "                                          tweet_text  \\\n",
       "0  RT @ChristinePolon1: I just called this hospit...   \n",
       "1  RT @socialistworker: Hungary’s government effe...   \n",
       "2  RT @JustinBrannan: Dear @Amazon,\\n\\nWith peopl...   \n",
       "3  UV DISINFECTION - UV LIGHT AND COVID-19 (CORON...   \n",
       "4  RT @KemiOlunloyo: #BREAKING  I am calling for ...   \n",
       "\n",
       "                                              source geo_name geo_id  \\\n",
       "0  <a href=\"http://twitter.com/download/android\" ...     None   None   \n",
       "1  <a href=\"http://twitter.com/download/android\" ...     None   None   \n",
       "2  <a href=\"https://mobile.twitter.com\" rel=\"nofo...     None   None   \n",
       "3  <a href=\"http://twitter.com/download/iphone\" r...     None   None   \n",
       "4  <a href=\"http://twitter.com/download/android\" ...     None   None   \n",
       "\n",
       "   geo_coords_SW_lat  geo_coords_SW_long  ...  user_mentions_1  \\\n",
       "0                NaN                 NaN  ...  ChristinePolon1   \n",
       "1                NaN                 NaN  ...  socialistworker   \n",
       "2                NaN                 NaN  ...    JustinBrannan   \n",
       "3                NaN                 NaN  ...             None   \n",
       "4                NaN                 NaN  ...     KemiOlunloyo   \n",
       "\n",
       "   user_mentions_2 user_mentions_3 user_mentions_4 user_mentions_5  \\\n",
       "0             None            None            None            None   \n",
       "1             None            None            None            None   \n",
       "2           amazon            None            None            None   \n",
       "3             None            None            None            None   \n",
       "4  HE_HopeUzodimma         NCDCgov        Chikwe_I            None   \n",
       "\n",
       "  user_mentions_6 user_mentions_7               user_date_created  \\\n",
       "0            None            None  Mon Feb 26 20:18:17 +0000 2018   \n",
       "1            None            None  Tue May 19 12:56:52 +0000 2009   \n",
       "2            None            None  Tue Apr 10 16:42:11 +0000 2012   \n",
       "3            None            None  Wed Jul 10 18:53:31 +0000 2019   \n",
       "4            None            None  Wed Jul 03 07:19:46 +0000 2019   \n",
       "\n",
       "        location                                        description  \n",
       "0  Michigan, USA  #Truth #MAGA #KAG #Q #QAnon #GreatAwakening  #...  \n",
       "1      London UK  I AM A CITIZEN OF THE WORLD 🌍\\nI am a Globalis...  \n",
       "2           None                                  I don’t know her.  \n",
       "3     Texas, USA  BSN RN OR/CVOR/IR/GI. Jesus is #1. 🚫DM, 🚫chats...  \n",
       "4           None                             A bio can't explain ME  \n",
       "\n",
       "[5 rows x 29 columns]"
      ]
     },
     "execution_count": 103,
     "metadata": {},
     "output_type": "execute_result"
    }
   ],
   "source": [
    "pd_tweets.head(5)"
   ]
  },
  {
   "cell_type": "code",
   "execution_count": 105,
   "metadata": {},
   "outputs": [],
   "source": [
    "tweet_text = pd_tweets[['tweet_text', 'description']]"
   ]
  },
  {
   "cell_type": "code",
   "execution_count": 106,
   "metadata": {},
   "outputs": [
    {
     "name": "stderr",
     "output_type": "stream",
     "text": [
      "/opt/conda/lib/python3.7/site-packages/ipykernel_launcher.py:1: SettingWithCopyWarning: \n",
      "A value is trying to be set on a copy of a slice from a DataFrame.\n",
      "Try using .loc[row_indexer,col_indexer] = value instead\n",
      "\n",
      "See the caveats in the documentation: https://pandas.pydata.org/pandas-docs/stable/user_guide/indexing.html#returning-a-view-versus-a-copy\n",
      "  \"\"\"Entry point for launching an IPython kernel.\n"
     ]
    }
   ],
   "source": [
    "tweet_text['pre_clean_length_text'] = [len(t) for t in tweet_text['tweet_text']]\n"
   ]
  },
  {
   "cell_type": "code",
   "execution_count": 108,
   "metadata": {},
   "outputs": [
    {
     "data": {
      "text/html": [
       "<div>\n",
       "<style scoped>\n",
       "    .dataframe tbody tr th:only-of-type {\n",
       "        vertical-align: middle;\n",
       "    }\n",
       "\n",
       "    .dataframe tbody tr th {\n",
       "        vertical-align: top;\n",
       "    }\n",
       "\n",
       "    .dataframe thead th {\n",
       "        text-align: right;\n",
       "    }\n",
       "</style>\n",
       "<table border=\"1\" class=\"dataframe\">\n",
       "  <thead>\n",
       "    <tr style=\"text-align: right;\">\n",
       "      <th></th>\n",
       "      <th>tweet_text</th>\n",
       "      <th>description</th>\n",
       "      <th>pre_clean_length_text</th>\n",
       "    </tr>\n",
       "  </thead>\n",
       "  <tbody>\n",
       "    <tr>\n",
       "      <th>0</th>\n",
       "      <td>RT @ChristinePolon1: I just called this hospit...</td>\n",
       "      <td>#Truth #MAGA #KAG #Q #QAnon #GreatAwakening  #...</td>\n",
       "      <td>140</td>\n",
       "    </tr>\n",
       "    <tr>\n",
       "      <th>1</th>\n",
       "      <td>RT @socialistworker: Hungary’s government effe...</td>\n",
       "      <td>I AM A CITIZEN OF THE WORLD 🌍\\nI am a Globalis...</td>\n",
       "      <td>139</td>\n",
       "    </tr>\n",
       "    <tr>\n",
       "      <th>2</th>\n",
       "      <td>RT @JustinBrannan: Dear @Amazon,\\n\\nWith peopl...</td>\n",
       "      <td>I don’t know her.</td>\n",
       "      <td>140</td>\n",
       "    </tr>\n",
       "    <tr>\n",
       "      <th>3</th>\n",
       "      <td>UV DISINFECTION - UV LIGHT AND COVID-19 (CORON...</td>\n",
       "      <td>BSN RN OR/CVOR/IR/GI. Jesus is #1. 🚫DM, 🚫chats...</td>\n",
       "      <td>129</td>\n",
       "    </tr>\n",
       "    <tr>\n",
       "      <th>4</th>\n",
       "      <td>RT @KemiOlunloyo: #BREAKING  I am calling for ...</td>\n",
       "      <td>A bio can't explain ME</td>\n",
       "      <td>140</td>\n",
       "    </tr>\n",
       "  </tbody>\n",
       "</table>\n",
       "</div>"
      ],
      "text/plain": [
       "                                          tweet_text  \\\n",
       "0  RT @ChristinePolon1: I just called this hospit...   \n",
       "1  RT @socialistworker: Hungary’s government effe...   \n",
       "2  RT @JustinBrannan: Dear @Amazon,\\n\\nWith peopl...   \n",
       "3  UV DISINFECTION - UV LIGHT AND COVID-19 (CORON...   \n",
       "4  RT @KemiOlunloyo: #BREAKING  I am calling for ...   \n",
       "\n",
       "                                         description  pre_clean_length_text  \n",
       "0  #Truth #MAGA #KAG #Q #QAnon #GreatAwakening  #...                    140  \n",
       "1  I AM A CITIZEN OF THE WORLD 🌍\\nI am a Globalis...                    139  \n",
       "2                                  I don’t know her.                    140  \n",
       "3  BSN RN OR/CVOR/IR/GI. Jesus is #1. 🚫DM, 🚫chats...                    129  \n",
       "4                             A bio can't explain ME                    140  "
      ]
     },
     "execution_count": 108,
     "metadata": {},
     "output_type": "execute_result"
    }
   ],
   "source": [
    "tweet_text.head(5)"
   ]
  },
  {
   "cell_type": "code",
   "execution_count": 109,
   "metadata": {},
   "outputs": [
    {
     "data": {
      "text/html": [
       "<div>\n",
       "<style scoped>\n",
       "    .dataframe tbody tr th:only-of-type {\n",
       "        vertical-align: middle;\n",
       "    }\n",
       "\n",
       "    .dataframe tbody tr th {\n",
       "        vertical-align: top;\n",
       "    }\n",
       "\n",
       "    .dataframe thead th {\n",
       "        text-align: right;\n",
       "    }\n",
       "</style>\n",
       "<table border=\"1\" class=\"dataframe\">\n",
       "  <thead>\n",
       "    <tr style=\"text-align: right;\">\n",
       "      <th></th>\n",
       "      <th>tweet_text</th>\n",
       "      <th>description</th>\n",
       "      <th>pre_clean_length_text</th>\n",
       "    </tr>\n",
       "  </thead>\n",
       "  <tbody>\n",
       "    <tr>\n",
       "      <th>15</th>\n",
       "      <td>RT @RepJimBanks: Heartbreaking story about Ai ...</td>\n",
       "      <td>None</td>\n",
       "      <td>144</td>\n",
       "    </tr>\n",
       "    <tr>\n",
       "      <th>20</th>\n",
       "      <td>RT @Davidshal20: @pulte Due to #COVID19 known ...</td>\n",
       "      <td>Account parodia</td>\n",
       "      <td>148</td>\n",
       "    </tr>\n",
       "    <tr>\n",
       "      <th>29</th>\n",
       "      <td>RT @codepink: The people of #Iran are suffocat...</td>\n",
       "      <td>writer, teacher, mom, cultural and political a...</td>\n",
       "      <td>144</td>\n",
       "    </tr>\n",
       "    <tr>\n",
       "      <th>51</th>\n",
       "      <td>RT @jazzzy_10: Due to #COVID19 aka #Coronaviru...</td>\n",
       "      <td>you have to be odd to be number one ~Dr. seuss</td>\n",
       "      <td>144</td>\n",
       "    </tr>\n",
       "    <tr>\n",
       "      <th>59</th>\n",
       "      <td>RT @PIB_India: Actor @Suriya_offl appeals peop...</td>\n",
       "      <td>@samsung SEC</td>\n",
       "      <td>144</td>\n",
       "    </tr>\n",
       "    <tr>\n",
       "      <th>...</th>\n",
       "      <td>...</td>\n",
       "      <td>...</td>\n",
       "      <td>...</td>\n",
       "    </tr>\n",
       "    <tr>\n",
       "      <th>2706</th>\n",
       "      <td>RT @PHLJazzProject: Just as I was putting toge...</td>\n",
       "      <td>“Philadelphia’s most reliable and ambitious pr...</td>\n",
       "      <td>144</td>\n",
       "    </tr>\n",
       "    <tr>\n",
       "      <th>2707</th>\n",
       "      <td>RT @TrinityResists: Trump &amp;amp; his regime out...</td>\n",
       "      <td>Progressive, Mom, Middle Class, Passionate Abo...</td>\n",
       "      <td>152</td>\n",
       "    </tr>\n",
       "    <tr>\n",
       "      <th>2713</th>\n",
       "      <td>RT @USAIDEthiopia: To support #COVID19 respons...</td>\n",
       "      <td>Lecturer @ AAU, CHS, SOM\\n\\nInternational Medi...</td>\n",
       "      <td>144</td>\n",
       "    </tr>\n",
       "    <tr>\n",
       "      <th>2718</th>\n",
       "      <td>RT @MichaelMaidment: Hey #Ottawa. When you dec...</td>\n",
       "      <td>Director Comms &amp; Gov. Relations @UNHCRCanada, ...</td>\n",
       "      <td>143</td>\n",
       "    </tr>\n",
       "    <tr>\n",
       "      <th>2734</th>\n",
       "      <td>RT @MalcolmNance: OMG this is a disasterous jo...</td>\n",
       "      <td>The Prince of Prints has been in the imaging b...</td>\n",
       "      <td>143</td>\n",
       "    </tr>\n",
       "  </tbody>\n",
       "</table>\n",
       "<p>250 rows × 3 columns</p>\n",
       "</div>"
      ],
      "text/plain": [
       "                                             tweet_text  \\\n",
       "15    RT @RepJimBanks: Heartbreaking story about Ai ...   \n",
       "20    RT @Davidshal20: @pulte Due to #COVID19 known ...   \n",
       "29    RT @codepink: The people of #Iran are suffocat...   \n",
       "51    RT @jazzzy_10: Due to #COVID19 aka #Coronaviru...   \n",
       "59    RT @PIB_India: Actor @Suriya_offl appeals peop...   \n",
       "...                                                 ...   \n",
       "2706  RT @PHLJazzProject: Just as I was putting toge...   \n",
       "2707  RT @TrinityResists: Trump &amp; his regime out...   \n",
       "2713  RT @USAIDEthiopia: To support #COVID19 respons...   \n",
       "2718  RT @MichaelMaidment: Hey #Ottawa. When you dec...   \n",
       "2734  RT @MalcolmNance: OMG this is a disasterous jo...   \n",
       "\n",
       "                                            description  pre_clean_length_text  \n",
       "15                                                 None                    144  \n",
       "20                                      Account parodia                    148  \n",
       "29    writer, teacher, mom, cultural and political a...                    144  \n",
       "51       you have to be odd to be number one ~Dr. seuss                    144  \n",
       "59                                         @samsung SEC                    144  \n",
       "...                                                 ...                    ...  \n",
       "2706  “Philadelphia’s most reliable and ambitious pr...                    144  \n",
       "2707  Progressive, Mom, Middle Class, Passionate Abo...                    152  \n",
       "2713  Lecturer @ AAU, CHS, SOM\\n\\nInternational Medi...                    144  \n",
       "2718  Director Comms & Gov. Relations @UNHCRCanada, ...                    143  \n",
       "2734  The Prince of Prints has been in the imaging b...                    143  \n",
       "\n",
       "[250 rows x 3 columns]"
      ]
     },
     "execution_count": 109,
     "metadata": {},
     "output_type": "execute_result"
    }
   ],
   "source": [
    "tweet_text[tweet_text.pre_clean_length_text > 140]"
   ]
  },
  {
   "cell_type": "code",
   "execution_count": 129,
   "metadata": {},
   "outputs": [
    {
     "data": {
      "text/plain": [
       "'RT @RepJimBanks: Heartbreaking story about Ai Fen, a Chinese doc who raised alarm about #COVID19 in early Dec &amp; is now missing.\\n\\n@StateDept…'"
      ]
     },
     "execution_count": 129,
     "metadata": {},
     "output_type": "execute_result"
    }
   ],
   "source": [
    "tweet_text.tweet_text[15]"
   ]
  },
  {
   "cell_type": "code",
   "execution_count": 126,
   "metadata": {},
   "outputs": [
    {
     "ename": "SyntaxError",
     "evalue": "invalid syntax (<ipython-input-126-a5ca3f61012e>, line 3)",
     "output_type": "error",
     "traceback": [
      "\u001b[0;36m  File \u001b[0;32m\"<ipython-input-126-a5ca3f61012e>\"\u001b[0;36m, line \u001b[0;32m3\u001b[0m\n\u001b[0;31m    tweet_text.loc[mask.any(axis=1)]\u001b[0m\n\u001b[0m             ^\u001b[0m\n\u001b[0;31mSyntaxError\u001b[0m\u001b[0;31m:\u001b[0m invalid syntax\n"
     ]
    }
   ],
   "source": [
    "import numpy as np\n",
    "mask = np.column_stack([tweet_text[col].str.contains(r\"\\&\", na=False) for col in tweet_text['tweet_text']\n",
    "tweet_text.loc[mask.any(axis=1)]"
   ]
  },
  {
   "cell_type": "code",
   "execution_count": 136,
   "metadata": {},
   "outputs": [
    {
     "data": {
      "text/plain": [
       "2014    RT @LiberalVenom: Jared Kushner thinks we have...\n",
       "Name: tweet_text, dtype: object"
      ]
     },
     "execution_count": 136,
     "metadata": {},
     "output_type": "execute_result"
    }
   ],
   "source": [
    "mask = tweet_text.tweet_text.str.contains(r\"\\@realdonaldtrump\", na=False)\n",
    "tweet_text.tweet_text.loc[mask]"
   ]
  },
  {
   "cell_type": "code",
   "execution_count": 111,
   "metadata": {},
   "outputs": [
    {
     "data": {
      "text/plain": [
       "'RT : Heartbreaking story about Ai Fen, a Chinese doc who raised alarm about #COVID19 in early Dec &amp; is now missing.\\n\\n…'"
      ]
     },
     "execution_count": 111,
     "metadata": {},
     "output_type": "execute_result"
    }
   ],
   "source": [
    "import re\n",
    "re.sub(r'@[A-Za-z0-9]+','',tweet_text.tweet_text[15])"
   ]
  },
  {
   "cell_type": "code",
   "execution_count": 138,
   "metadata": {},
   "outputs": [
    {
     "data": {
      "text/plain": [
       "'@[A-Za-z0-9]+|https?://[A-Za-z0-9./]+'"
      ]
     },
     "execution_count": 138,
     "metadata": {},
     "output_type": "execute_result"
    }
   ],
   "source": [
    "pat1 = r'@[A-Za-z0-9]+'\n",
    "pat2 = r'https?://[A-Za-z0-9./]+'\n",
    "combined_pat = r'|'.join((pat1, pat2))\n",
    "combined_pat"
   ]
  },
  {
   "cell_type": "code",
   "execution_count": 162,
   "metadata": {},
   "outputs": [
    {
     "data": {
      "text/plain": [
       "\"RT @JustinBrannan: Dear @Amazon,\\n\\nWith people forced to stay safe inside from #COVID19, \\nyou are making more $$ than ever before. \\n\\nNow's n…\""
      ]
     },
     "execution_count": 162,
     "metadata": {},
     "output_type": "execute_result"
    }
   ],
   "source": [
    "tweet_lst = tweet_text.tweet_text.tolist()\n",
    "tweet_lst[2]"
   ]
  },
  {
   "cell_type": "code",
   "execution_count": 169,
   "metadata": {},
   "outputs": [
    {
     "data": {
      "text/plain": [
       "'RT JustinBrannan Dear Amazon\\n\\nWith people forced to stay safe inside from COVID19 \\nyou are making more  than ever before \\n\\nNows n…'"
      ]
     },
     "execution_count": 169,
     "metadata": {},
     "output_type": "execute_result"
    }
   ],
   "source": [
    "''.join([c for c in tweet_lst[2] if c not in punctuation])"
   ]
  },
  {
   "cell_type": "code",
   "execution_count": 166,
   "metadata": {},
   "outputs": [],
   "source": [
    "tweet_strings = tweet_text['tweet_text'].str.cat(sep=' ')"
   ]
  },
  {
   "cell_type": "code",
   "execution_count": 168,
   "metadata": {},
   "outputs": [
    {
     "data": {
      "text/plain": [
       "358230"
      ]
     },
     "execution_count": 168,
     "metadata": {},
     "output_type": "execute_result"
    }
   ],
   "source": [
    "len(tweet_strings)"
   ]
  },
  {
   "cell_type": "code",
   "execution_count": 172,
   "metadata": {},
   "outputs": [],
   "source": [
    "import lxml"
   ]
  },
  {
   "cell_type": "code",
   "execution_count": 193,
   "metadata": {},
   "outputs": [],
   "source": [
    "from nltk.tokenize import WordPunctTokenizer\n",
    "import lxml\n",
    "tok = WordPunctTokenizer()\n",
    "pat1 = r'@[A-Za-z0-9]+'\n",
    "pat2 = r'https?://[A-Za-z0-9./]+'\n",
    "combined_pat = r'|'.join((pat1, pat2))\n",
    "\n",
    "def tweet_cleaner(text):\n",
    "#     soup = BeautifulSoup(text, 'lxml')\n",
    "#     souped = soup.get_text()\n",
    "    stripped = re.sub(combined_pat, '', text)\n",
    "    try:\n",
    "        clean = stripped.decode(\"utf-8-sig\").replace(u\"\\ufffd\", \"?\")\n",
    "    except:\n",
    "        clean = stripped\n",
    "    letters_only = re.sub(\"[^a-zA-Z]\", \" \", clean)\n",
    "    lower_case = letters_only.lower()\n",
    "    # During the letters_only process two lines above, it has created unnecessay white spaces,\n",
    "    # I will tokenize and join together to remove unneccessary white spaces\n",
    "    words = tok.tokenize(lower_case)\n",
    "    return (\" \".join(words)).strip()"
   ]
  },
  {
   "cell_type": "code",
   "execution_count": 195,
   "metadata": {},
   "outputs": [
    {
     "name": "stdout",
     "output_type": "stream",
     "text": [
      "RT @codepink: The people of #Iran are suffocating &amp; the people of #Venezuela are suffering as the US continues to impose brutal sanctions o…\n",
      "rt the people of iran are suffocating amp the people of venezuela are suffering as the us continues to impose brutal sanctions o\n",
      "<class 'str'>\n"
     ]
    }
   ],
   "source": [
    "test = tweet_cleaner(tweet_lst[29])\n",
    "print(tweet_lst[29])\n",
    "print(test)\n",
    "print(type(test))"
   ]
  },
  {
   "cell_type": "code",
   "execution_count": 158,
   "metadata": {},
   "outputs": [
    {
     "name": "stderr",
     "output_type": "stream",
     "text": [
      "/opt/conda/lib/python3.7/site-packages/sklearn/utils/deprecation.py:144: FutureWarning: The sklearn.feature_extraction.stop_words module is  deprecated in version 0.22 and will be removed in version 0.24. The corresponding classes / functions should instead be imported from sklearn.feature_extraction.text. Anything that cannot be imported from sklearn.feature_extraction.text is now part of the private API.\n",
      "  warnings.warn(message, FutureWarning)\n"
     ]
    }
   ],
   "source": [
    "from string import punctuation\n",
    "from sklearn.feature_extraction import stop_words\n",
    "stopwords = stop_words.ENGLISH_STOP_WORDS\n",
    "\n",
    "def lowercase_text(text):\n",
    "    return text.lower()\n",
    "\n",
    "def remove_punctuation(text, punctuation=punctuation):\n",
    "    return ''.join([c for c in text if c not in punctuation])\n",
    "\n",
    "def remove_newline(text):\n",
    "    return text.replace('\\n', '')\n",
    "\n",
    "def split_text_into_words(text):\n",
    "    return text.split(' ')\n",
    "\n",
    "def remove_stopwords(word_lst, stopwords_set):\n",
    "    return [word for word in word_lst if word not in stopwords_set]\n",
    "\n",
    "def replace_names(word_lst, name_set, replacement_val):\n",
    "    word_lst_with_replacement = [] \n",
    "    for word in word_lst:\n",
    "        if word in name_set:\n",
    "            val = replacement_val\n",
    "        else:\n",
    "            val = word\n",
    "        word_lst_with_replacement.append(val)\n",
    "    return word_lst_with_replacement\n",
    "\n",
    "def create_cleaned_textline_from_words(words):\n",
    "    text = ' '.join([word for word in words])\n",
    "    return text\n",
    "\n",
    "def line_cleaning_pipeline(text, stopwords_set, name_set, replace_val):\n",
    "    text_lc = lowercase_text(text)\n",
    "    text_np = remove_punctuation(text_lc)\n",
    "    text_nnl = remove_newline(text_np)\n",
    "    words = split_text_into_words(text_nnl)\n",
    "    words_nsw = remove_stopwords(words, stopwords_set)\n",
    "    words_cleaned = replace_names(words_nsw, name_set, replace_val) \n",
    "    line_of_text_cleaned = create_cleaned_textline_from_words(words_cleaned)\n",
    "    return line_of_text_cleaned"
   ]
  },
  {
   "cell_type": "code",
   "execution_count": null,
   "metadata": {},
   "outputs": [],
   "source": []
  }
 ],
 "metadata": {
  "kernelspec": {
   "display_name": "Python 3",
   "language": "python",
   "name": "python3"
  },
  "language_info": {
   "codemirror_mode": {
    "name": "ipython",
    "version": 3
   },
   "file_extension": ".py",
   "mimetype": "text/x-python",
   "name": "python",
   "nbconvert_exporter": "python",
   "pygments_lexer": "ipython3",
   "version": "3.7.6"
  }
 },
 "nbformat": 4,
 "nbformat_minor": 4
}
